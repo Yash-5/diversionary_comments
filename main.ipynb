{
 "cells": [
  {
   "cell_type": "code",
   "execution_count": 17,
   "metadata": {
    "collapsed": false,
    "deletable": true,
    "editable": true
   },
   "outputs": [],
   "source": [
    "from bing_search import bing_web_search\n",
    "from GooseExtractor import extractArticle\n",
    "from Rep import replaceCorefs\n",
    "import subprocess\n",
    "import os\n",
    "import sys\n",
    "import codecs\n",
    "import json"
   ]
  },
  {
   "cell_type": "code",
   "execution_count": 27,
   "metadata": {
    "collapsed": false,
    "deletable": true,
    "editable": true
   },
   "outputs": [],
   "source": [
    "article_texts = []\n",
    "for link in bing_web_search(\"Barack Obama\"):\n",
    "    try:\n",
    "        article_texts.append(extractArticle(link))\n",
    "    except:\n",
    "        continue"
   ]
  },
  {
   "cell_type": "code",
   "execution_count": 35,
   "metadata": {
    "collapsed": true,
    "deletable": true,
    "editable": true
   },
   "outputs": [],
   "source": [
    "def putTextInFile(article):\n",
    "    os.chdir(\"stanford-corenlp-full-2016-10-31\")\n",
    "    try:\n",
    "        with codecs.open(\"out.txt\", \"w\", \"utf-8\") as outFile:\n",
    "            outFile.write(article)\n",
    "    except:\n",
    "        os.chdir(\"..\")\n",
    "        print sys.exc_info()\n",
    "        return False\n",
    "    os.chdir(\"..\")\n",
    "    return True"
   ]
  },
  {
   "cell_type": "code",
   "execution_count": 36,
   "metadata": {
    "collapsed": true,
    "deletable": true,
    "editable": true
   },
   "outputs": [],
   "source": [
    "def runSub():\n",
    "    os.chdir(\"stanford-corenlp-full-2016-10-31\")\n",
    "    command = \"java -Xmx5g -cp '*' edu.stanford.nlp.pipeline.StanfordCoreNLP \"\\\n",
    "            + \"-annotators tokenize,ssplit,pos,lemma,ner,parse,mention,coref -coref.algorithm neural -file out.txt -outputFormat json\"\n",
    "    subprocess.check_output(command, shell=True)\n",
    "    os.chdir(\"..\")"
   ]
  },
  {
   "cell_type": "code",
   "execution_count": 50,
   "metadata": {
    "collapsed": false,
    "deletable": true,
    "editable": true
   },
   "outputs": [
    {
     "ename": "NameError",
     "evalue": "name 'article_texts' is not defined",
     "output_type": "error",
     "traceback": [
      "\u001b[0;31m---------------------------------------------------------------------------\u001b[0m",
      "\u001b[0;31mNameError\u001b[0m                                 Traceback (most recent call last)",
      "\u001b[0;32m<ipython-input-50-401e0c71ce31>\u001b[0m in \u001b[0;36m<module>\u001b[0;34m()\u001b[0m\n\u001b[1;32m      1\u001b[0m \u001b[0mcoref_texts\u001b[0m \u001b[0;34m=\u001b[0m \u001b[0;34m[\u001b[0m\u001b[0;34m]\u001b[0m\u001b[0;34m\u001b[0m\u001b[0m\n\u001b[0;32m----> 2\u001b[0;31m \u001b[0;32mfor\u001b[0m \u001b[0marticle\u001b[0m \u001b[0;32min\u001b[0m \u001b[0marticle_texts\u001b[0m\u001b[0;34m:\u001b[0m\u001b[0;34m\u001b[0m\u001b[0m\n\u001b[0m\u001b[1;32m      3\u001b[0m     \u001b[0mputTextInFile\u001b[0m\u001b[0;34m(\u001b[0m\u001b[0marticle\u001b[0m\u001b[0;34m[\u001b[0m\u001b[0;36m1\u001b[0m\u001b[0;34m]\u001b[0m\u001b[0;34m)\u001b[0m\u001b[0;34m\u001b[0m\u001b[0m\n\u001b[1;32m      4\u001b[0m     \u001b[0mrunSub\u001b[0m\u001b[0;34m(\u001b[0m\u001b[0;34m)\u001b[0m\u001b[0;34m\u001b[0m\u001b[0m\n\u001b[1;32m      5\u001b[0m     \u001b[0msentences\u001b[0m \u001b[0;34m=\u001b[0m \u001b[0mreplaceCorefs\u001b[0m\u001b[0;34m(\u001b[0m\u001b[0;34m\"out.txt.json\"\u001b[0m\u001b[0;34m)\u001b[0m\u001b[0;34m\u001b[0m\u001b[0m\n",
      "\u001b[0;31mNameError\u001b[0m: name 'article_texts' is not defined"
     ]
    }
   ],
   "source": [
    "coref_texts = []\n",
    "for article in article_texts:\n",
    "    putTextInFile(article[1])\n",
    "    runSub()\n",
    "    sentences = replaceCorefs(\"out.txt.json\")\n",
    "    corefArticle = \"\"\n",
    "    for key in sorted(sentences):\n",
    "        for wordIndex in sorted(sentences[key]):\n",
    "            corefArticle += sentences[key][wordIndex] + \" \"\n",
    "    coref_texts.append(corefArticle)"
   ]
  }
 ],
 "metadata": {
  "kernelspec": {
   "display_name": "Python 2",
   "language": "python",
   "name": "python2"
  },
  "language_info": {
   "codemirror_mode": {
    "name": "ipython",
    "version": 2
   },
   "file_extension": ".py",
   "mimetype": "text/x-python",
   "name": "python",
   "nbconvert_exporter": "python",
   "pygments_lexer": "ipython2",
   "version": "2.7.10"
  }
 },
 "nbformat": 4,
 "nbformat_minor": 2
}
